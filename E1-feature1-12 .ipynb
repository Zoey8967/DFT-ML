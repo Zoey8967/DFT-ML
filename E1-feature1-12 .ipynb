{
 "cells": [
  {
   "cell_type": "code",
   "execution_count": 1,
   "id": "9ae4850e",
   "metadata": {},
   "outputs": [],
   "source": [
    "import numpy as np\n",
    "import pandas as pd"
   ]
  },
  {
   "cell_type": "code",
   "execution_count": 2,
   "id": "28bdc163",
   "metadata": {},
   "outputs": [
    {
     "data": {
      "text/html": [
       "<div>\n",
       "<style scoped>\n",
       "    .dataframe tbody tr th:only-of-type {\n",
       "        vertical-align: middle;\n",
       "    }\n",
       "\n",
       "    .dataframe tbody tr th {\n",
       "        vertical-align: top;\n",
       "    }\n",
       "\n",
       "    .dataframe thead th {\n",
       "        text-align: right;\n",
       "    }\n",
       "</style>\n",
       "<table border=\"1\" class=\"dataframe\">\n",
       "  <thead>\n",
       "    <tr style=\"text-align: right;\">\n",
       "      <th></th>\n",
       "      <th>E1</th>\n",
       "    </tr>\n",
       "  </thead>\n",
       "  <tbody>\n",
       "    <tr>\n",
       "      <th>Sc</th>\n",
       "      <td>0.416</td>\n",
       "    </tr>\n",
       "    <tr>\n",
       "      <th>Ti</th>\n",
       "      <td>-0.791</td>\n",
       "    </tr>\n",
       "    <tr>\n",
       "      <th>V</th>\n",
       "      <td>-1.414</td>\n",
       "    </tr>\n",
       "    <tr>\n",
       "      <th>Cr</th>\n",
       "      <td>-2.044</td>\n",
       "    </tr>\n",
       "    <tr>\n",
       "      <th>Mn</th>\n",
       "      <td>-1.484</td>\n",
       "    </tr>\n",
       "    <tr>\n",
       "      <th>Fe</th>\n",
       "      <td>-3.207</td>\n",
       "    </tr>\n",
       "    <tr>\n",
       "      <th>Co</th>\n",
       "      <td>-2.593</td>\n",
       "    </tr>\n",
       "    <tr>\n",
       "      <th>Ni</th>\n",
       "      <td>-2.435</td>\n",
       "    </tr>\n",
       "    <tr>\n",
       "      <th>Cu</th>\n",
       "      <td>-0.826</td>\n",
       "    </tr>\n",
       "    <tr>\n",
       "      <th>Zn</th>\n",
       "      <td>-0.124</td>\n",
       "    </tr>\n",
       "    <tr>\n",
       "      <th>Y</th>\n",
       "      <td>5.796</td>\n",
       "    </tr>\n",
       "    <tr>\n",
       "      <th>Zr</th>\n",
       "      <td>1.996</td>\n",
       "    </tr>\n",
       "    <tr>\n",
       "      <th>Nb</th>\n",
       "      <td>1.416</td>\n",
       "    </tr>\n",
       "    <tr>\n",
       "      <th>Mo</th>\n",
       "      <td>0.634</td>\n",
       "    </tr>\n",
       "    <tr>\n",
       "      <th>Ru</th>\n",
       "      <td>-0.994</td>\n",
       "    </tr>\n",
       "    <tr>\n",
       "      <th>Rh</th>\n",
       "      <td>-0.214</td>\n",
       "    </tr>\n",
       "    <tr>\n",
       "      <th>Pd</th>\n",
       "      <td>1.756</td>\n",
       "    </tr>\n",
       "    <tr>\n",
       "      <th>Ag</th>\n",
       "      <td>3.286</td>\n",
       "    </tr>\n",
       "    <tr>\n",
       "      <th>Cd</th>\n",
       "      <td>3.227</td>\n",
       "    </tr>\n",
       "    <tr>\n",
       "      <th>Ta</th>\n",
       "      <td>2.616</td>\n",
       "    </tr>\n",
       "    <tr>\n",
       "      <th>W</th>\n",
       "      <td>1.426</td>\n",
       "    </tr>\n",
       "    <tr>\n",
       "      <th>Re</th>\n",
       "      <td>0.736</td>\n",
       "    </tr>\n",
       "    <tr>\n",
       "      <th>Os</th>\n",
       "      <td>-0.714</td>\n",
       "    </tr>\n",
       "    <tr>\n",
       "      <th>Ir</th>\n",
       "      <td>0.956</td>\n",
       "    </tr>\n",
       "    <tr>\n",
       "      <th>Pt</th>\n",
       "      <td>2.826</td>\n",
       "    </tr>\n",
       "    <tr>\n",
       "      <th>Au</th>\n",
       "      <td>5.216</td>\n",
       "    </tr>\n",
       "    <tr>\n",
       "      <th>Hg</th>\n",
       "      <td>5.666</td>\n",
       "    </tr>\n",
       "  </tbody>\n",
       "</table>\n",
       "</div>"
      ],
      "text/plain": [
       "       E1\n",
       "Sc  0.416\n",
       "Ti -0.791\n",
       "V  -1.414\n",
       "Cr -2.044\n",
       "Mn -1.484\n",
       "Fe -3.207\n",
       "Co -2.593\n",
       "Ni -2.435\n",
       "Cu -0.826\n",
       "Zn -0.124\n",
       "Y   5.796\n",
       "Zr  1.996\n",
       "Nb  1.416\n",
       "Mo  0.634\n",
       "Ru -0.994\n",
       "Rh -0.214\n",
       "Pd  1.756\n",
       "Ag  3.286\n",
       "Cd  3.227\n",
       "Ta  2.616\n",
       "W   1.426\n",
       "Re  0.736\n",
       "Os -0.714\n",
       "Ir  0.956\n",
       "Pt  2.826\n",
       "Au  5.216\n",
       "Hg  5.666"
      ]
     },
     "execution_count": 2,
     "metadata": {},
     "output_type": "execute_result"
    }
   ],
   "source": [
    "df = pd.read_csv('db_E1.csv',index_col = 0)\n",
    "df  "
   ]
  },
  {
   "cell_type": "code",
   "execution_count": 3,
   "id": "4ff688d8",
   "metadata": {},
   "outputs": [],
   "source": [
    "y = df[['E1']].values.reshape(-1)"
   ]
  },
  {
   "cell_type": "code",
   "execution_count": 4,
   "id": "1b88faf1",
   "metadata": {},
   "outputs": [
    {
     "data": {
      "text/plain": [
       "array([ 0.416, -0.791, -1.414, -2.044, -1.484, -3.207, -2.593, -2.435,\n",
       "       -0.826, -0.124,  5.796,  1.996,  1.416,  0.634, -0.994, -0.214,\n",
       "        1.756,  3.286,  3.227,  2.616,  1.426,  0.736, -0.714,  0.956,\n",
       "        2.826,  5.216,  5.666])"
      ]
     },
     "execution_count": 4,
     "metadata": {},
     "output_type": "execute_result"
    }
   ],
   "source": [
    "y"
   ]
  },
  {
   "cell_type": "code",
   "execution_count": 5,
   "id": "9134c364",
   "metadata": {},
   "outputs": [
    {
     "data": {
      "text/html": [
       "<div>\n",
       "<style scoped>\n",
       "    .dataframe tbody tr th:only-of-type {\n",
       "        vertical-align: middle;\n",
       "    }\n",
       "\n",
       "    .dataframe tbody tr th {\n",
       "        vertical-align: top;\n",
       "    }\n",
       "\n",
       "    .dataframe thead th {\n",
       "        text-align: right;\n",
       "    }\n",
       "</style>\n",
       "<table border=\"1\" class=\"dataframe\">\n",
       "  <thead>\n",
       "    <tr style=\"text-align: right;\">\n",
       "      <th></th>\n",
       "      <th>ᵡ_m</th>\n",
       "      <th>N_d</th>\n",
       "      <th>I_m</th>\n",
       "      <th>r_d</th>\n",
       "      <th>C_m</th>\n",
       "      <th>A_m</th>\n",
       "      <th>ɛ_D</th>\n",
       "      <th>ɛ_d</th>\n",
       "      <th>TM-NL</th>\n",
       "      <th>TM-NS</th>\n",
       "      <th>CTM0</th>\n",
       "      <th>CN0</th>\n",
       "    </tr>\n",
       "  </thead>\n",
       "  <tbody>\n",
       "    <tr>\n",
       "      <th>Sc</th>\n",
       "      <td>1.36</td>\n",
       "      <td>1</td>\n",
       "      <td>6.540</td>\n",
       "      <td>1.606</td>\n",
       "      <td>12.2900</td>\n",
       "      <td>18.14</td>\n",
       "      <td>0.820611</td>\n",
       "      <td>2.969941</td>\n",
       "      <td>1.88</td>\n",
       "      <td>1.87</td>\n",
       "      <td>1.18</td>\n",
       "      <td>-0.25</td>\n",
       "    </tr>\n",
       "    <tr>\n",
       "      <th>Ti</th>\n",
       "      <td>1.54</td>\n",
       "      <td>2</td>\n",
       "      <td>6.820</td>\n",
       "      <td>1.448</td>\n",
       "      <td>-3.4380</td>\n",
       "      <td>7.62</td>\n",
       "      <td>0.874957</td>\n",
       "      <td>0.337490</td>\n",
       "      <td>1.93</td>\n",
       "      <td>1.92</td>\n",
       "      <td>1.08</td>\n",
       "      <td>-0.24</td>\n",
       "    </tr>\n",
       "    <tr>\n",
       "      <th>V</th>\n",
       "      <td>1.63</td>\n",
       "      <td>3</td>\n",
       "      <td>6.740</td>\n",
       "      <td>1.321</td>\n",
       "      <td>-0.3824</td>\n",
       "      <td>50.65</td>\n",
       "      <td>1.487704</td>\n",
       "      <td>0.876092</td>\n",
       "      <td>1.95</td>\n",
       "      <td>2.06</td>\n",
       "      <td>0.66</td>\n",
       "      <td>-0.19</td>\n",
       "    </tr>\n",
       "    <tr>\n",
       "      <th>Cr</th>\n",
       "      <td>1.66</td>\n",
       "      <td>5</td>\n",
       "      <td>6.766</td>\n",
       "      <td>1.249</td>\n",
       "      <td>3.6350</td>\n",
       "      <td>64.26</td>\n",
       "      <td>2.317219</td>\n",
       "      <td>0.241911</td>\n",
       "      <td>1.99</td>\n",
       "      <td>2.11</td>\n",
       "      <td>0.62</td>\n",
       "      <td>-0.17</td>\n",
       "    </tr>\n",
       "    <tr>\n",
       "      <th>Mn</th>\n",
       "      <td>1.55</td>\n",
       "      <td>5</td>\n",
       "      <td>7.435</td>\n",
       "      <td>1.240</td>\n",
       "      <td>-3.7300</td>\n",
       "      <td>10.00</td>\n",
       "      <td>-1.021847</td>\n",
       "      <td>-1.302352</td>\n",
       "      <td>2.03</td>\n",
       "      <td>2.22</td>\n",
       "      <td>0.59</td>\n",
       "      <td>-0.17</td>\n",
       "    </tr>\n",
       "    <tr>\n",
       "      <th>Fe</th>\n",
       "      <td>1.83</td>\n",
       "      <td>6</td>\n",
       "      <td>7.870</td>\n",
       "      <td>1.241</td>\n",
       "      <td>9.4500</td>\n",
       "      <td>14.57</td>\n",
       "      <td>-1.180000</td>\n",
       "      <td>-0.270000</td>\n",
       "      <td>2.07</td>\n",
       "      <td>2.25</td>\n",
       "      <td>0.23</td>\n",
       "      <td>-0.13</td>\n",
       "    </tr>\n",
       "    <tr>\n",
       "      <th>Co</th>\n",
       "      <td>1.88</td>\n",
       "      <td>7</td>\n",
       "      <td>7.860</td>\n",
       "      <td>1.253</td>\n",
       "      <td>2.4900</td>\n",
       "      <td>63.87</td>\n",
       "      <td>-1.003518</td>\n",
       "      <td>-0.545583</td>\n",
       "      <td>2.10</td>\n",
       "      <td>2.20</td>\n",
       "      <td>0.27</td>\n",
       "      <td>-0.15</td>\n",
       "    </tr>\n",
       "    <tr>\n",
       "      <th>Ni</th>\n",
       "      <td>1.91</td>\n",
       "      <td>8</td>\n",
       "      <td>7.635</td>\n",
       "      <td>1.246</td>\n",
       "      <td>10.3000</td>\n",
       "      <td>111.54</td>\n",
       "      <td>-1.440000</td>\n",
       "      <td>-1.660000</td>\n",
       "      <td>2.06</td>\n",
       "      <td>2.06</td>\n",
       "      <td>0.26</td>\n",
       "      <td>-0.14</td>\n",
       "    </tr>\n",
       "    <tr>\n",
       "      <th>Cu</th>\n",
       "      <td>1.90</td>\n",
       "      <td>10</td>\n",
       "      <td>7.726</td>\n",
       "      <td>1.278</td>\n",
       "      <td>7.7180</td>\n",
       "      <td>119.16</td>\n",
       "      <td>-0.001886</td>\n",
       "      <td>-3.705000</td>\n",
       "      <td>1.74</td>\n",
       "      <td>1.65</td>\n",
       "      <td>0.56</td>\n",
       "      <td>-0.19</td>\n",
       "    </tr>\n",
       "    <tr>\n",
       "      <th>Zn</th>\n",
       "      <td>1.65</td>\n",
       "      <td>10</td>\n",
       "      <td>9.394</td>\n",
       "      <td>1.332</td>\n",
       "      <td>5.6800</td>\n",
       "      <td>120.00</td>\n",
       "      <td>-5.658559</td>\n",
       "      <td>-6.001000</td>\n",
       "      <td>1.88</td>\n",
       "      <td>2.14</td>\n",
       "      <td>0.79</td>\n",
       "      <td>-0.23</td>\n",
       "    </tr>\n",
       "    <tr>\n",
       "      <th>Y</th>\n",
       "      <td>1.22</td>\n",
       "      <td>1</td>\n",
       "      <td>6.380</td>\n",
       "      <td>1.810</td>\n",
       "      <td>7.7500</td>\n",
       "      <td>29.62</td>\n",
       "      <td>1.002960</td>\n",
       "      <td>2.949902</td>\n",
       "      <td>1.92</td>\n",
       "      <td>2.15</td>\n",
       "      <td>0.62</td>\n",
       "      <td>-0.06</td>\n",
       "    </tr>\n",
       "    <tr>\n",
       "      <th>Zr</th>\n",
       "      <td>1.33</td>\n",
       "      <td>2</td>\n",
       "      <td>6.840</td>\n",
       "      <td>1.600</td>\n",
       "      <td>7.1600</td>\n",
       "      <td>41.10</td>\n",
       "      <td>0.984415</td>\n",
       "      <td>1.960500</td>\n",
       "      <td>1.94</td>\n",
       "      <td>2.07</td>\n",
       "      <td>1.43</td>\n",
       "      <td>-0.27</td>\n",
       "    </tr>\n",
       "    <tr>\n",
       "      <th>Nb</th>\n",
       "      <td>1.60</td>\n",
       "      <td>4</td>\n",
       "      <td>6.880</td>\n",
       "      <td>1.429</td>\n",
       "      <td>7.0540</td>\n",
       "      <td>86.16</td>\n",
       "      <td>1.575050</td>\n",
       "      <td>1.066654</td>\n",
       "      <td>1.88</td>\n",
       "      <td>1.84</td>\n",
       "      <td>1.11</td>\n",
       "      <td>-0.24</td>\n",
       "    </tr>\n",
       "    <tr>\n",
       "      <th>Mo</th>\n",
       "      <td>2.16</td>\n",
       "      <td>5</td>\n",
       "      <td>7.099</td>\n",
       "      <td>1.362</td>\n",
       "      <td>6.7150</td>\n",
       "      <td>72.17</td>\n",
       "      <td>0.387354</td>\n",
       "      <td>0.688063</td>\n",
       "      <td>1.92</td>\n",
       "      <td>2.15</td>\n",
       "      <td>0.47</td>\n",
       "      <td>-0.14</td>\n",
       "    </tr>\n",
       "    <tr>\n",
       "      <th>Ru</th>\n",
       "      <td>2.20</td>\n",
       "      <td>7</td>\n",
       "      <td>7.370</td>\n",
       "      <td>1.340</td>\n",
       "      <td>7.0300</td>\n",
       "      <td>101.31</td>\n",
       "      <td>-0.519844</td>\n",
       "      <td>-0.679096</td>\n",
       "      <td>1.95</td>\n",
       "      <td>2.09</td>\n",
       "      <td>0.47</td>\n",
       "      <td>-0.14</td>\n",
       "    </tr>\n",
       "    <tr>\n",
       "      <th>Rh</th>\n",
       "      <td>2.28</td>\n",
       "      <td>8</td>\n",
       "      <td>7.460</td>\n",
       "      <td>1.345</td>\n",
       "      <td>5.8800</td>\n",
       "      <td>109.70</td>\n",
       "      <td>0.150560</td>\n",
       "      <td>-1.154821</td>\n",
       "      <td>1.91</td>\n",
       "      <td>1.89</td>\n",
       "      <td>0.23</td>\n",
       "      <td>-0.11</td>\n",
       "    </tr>\n",
       "    <tr>\n",
       "      <th>Pd</th>\n",
       "      <td>2.20</td>\n",
       "      <td>10</td>\n",
       "      <td>8.340</td>\n",
       "      <td>1.376</td>\n",
       "      <td>5.9100</td>\n",
       "      <td>54.22</td>\n",
       "      <td>-0.210224</td>\n",
       "      <td>-3.752818</td>\n",
       "      <td>1.91</td>\n",
       "      <td>1.90</td>\n",
       "      <td>0.25</td>\n",
       "      <td>-0.08</td>\n",
       "    </tr>\n",
       "    <tr>\n",
       "      <th>Ag</th>\n",
       "      <td>1.93</td>\n",
       "      <td>10</td>\n",
       "      <td>7.576</td>\n",
       "      <td>1.444</td>\n",
       "      <td>5.9200</td>\n",
       "      <td>125.62</td>\n",
       "      <td>-0.011540</td>\n",
       "      <td>-7.070459</td>\n",
       "      <td>1.88</td>\n",
       "      <td>1.99</td>\n",
       "      <td>0.84</td>\n",
       "      <td>-0.21</td>\n",
       "    </tr>\n",
       "    <tr>\n",
       "      <th>Cd</th>\n",
       "      <td>1.69</td>\n",
       "      <td>10</td>\n",
       "      <td>8.993</td>\n",
       "      <td>1.489</td>\n",
       "      <td>4.8700</td>\n",
       "      <td>10.00</td>\n",
       "      <td>-6.913901</td>\n",
       "      <td>-9.135611</td>\n",
       "      <td>1.90</td>\n",
       "      <td>1.90</td>\n",
       "      <td>1.15</td>\n",
       "      <td>-0.27</td>\n",
       "    </tr>\n",
       "    <tr>\n",
       "      <th>Ta</th>\n",
       "      <td>1.50</td>\n",
       "      <td>3</td>\n",
       "      <td>7.890</td>\n",
       "      <td>1.430</td>\n",
       "      <td>6.9100</td>\n",
       "      <td>31.07</td>\n",
       "      <td>2.504333</td>\n",
       "      <td>2.153208</td>\n",
       "      <td>1.90</td>\n",
       "      <td>1.96</td>\n",
       "      <td>0.85</td>\n",
       "      <td>-0.19</td>\n",
       "    </tr>\n",
       "    <tr>\n",
       "      <th>W</th>\n",
       "      <td>1.70</td>\n",
       "      <td>4</td>\n",
       "      <td>7.980</td>\n",
       "      <td>1.370</td>\n",
       "      <td>4.8600</td>\n",
       "      <td>78.64</td>\n",
       "      <td>1.643746</td>\n",
       "      <td>1.028943</td>\n",
       "      <td>1.90</td>\n",
       "      <td>1.88</td>\n",
       "      <td>0.84</td>\n",
       "      <td>-0.21</td>\n",
       "    </tr>\n",
       "    <tr>\n",
       "      <th>Re</th>\n",
       "      <td>1.90</td>\n",
       "      <td>5</td>\n",
       "      <td>7.880</td>\n",
       "      <td>1.370</td>\n",
       "      <td>9.2000</td>\n",
       "      <td>14.47</td>\n",
       "      <td>1.801728</td>\n",
       "      <td>-0.224279</td>\n",
       "      <td>1.89</td>\n",
       "      <td>1.80</td>\n",
       "      <td>0.81</td>\n",
       "      <td>-0.20</td>\n",
       "    </tr>\n",
       "    <tr>\n",
       "      <th>Os</th>\n",
       "      <td>2.20</td>\n",
       "      <td>6</td>\n",
       "      <td>8.700</td>\n",
       "      <td>1.350</td>\n",
       "      <td>10.7000</td>\n",
       "      <td>106.13</td>\n",
       "      <td>-1.247712</td>\n",
       "      <td>-0.504663</td>\n",
       "      <td>1.82</td>\n",
       "      <td>1.71</td>\n",
       "      <td>0.48</td>\n",
       "      <td>-0.16</td>\n",
       "    </tr>\n",
       "    <tr>\n",
       "      <th>Ir</th>\n",
       "      <td>2.20</td>\n",
       "      <td>7</td>\n",
       "      <td>9.100</td>\n",
       "      <td>1.357</td>\n",
       "      <td>10.6000</td>\n",
       "      <td>150.88</td>\n",
       "      <td>-0.330767</td>\n",
       "      <td>-1.117137</td>\n",
       "      <td>1.54</td>\n",
       "      <td>1.44</td>\n",
       "      <td>0.20</td>\n",
       "      <td>-0.12</td>\n",
       "    </tr>\n",
       "    <tr>\n",
       "      <th>Pt</th>\n",
       "      <td>2.20</td>\n",
       "      <td>9</td>\n",
       "      <td>9.000</td>\n",
       "      <td>1.380</td>\n",
       "      <td>9.6000</td>\n",
       "      <td>205.32</td>\n",
       "      <td>-1.239714</td>\n",
       "      <td>-3.036818</td>\n",
       "      <td>2.00</td>\n",
       "      <td>2.34</td>\n",
       "      <td>0.41</td>\n",
       "      <td>-0.15</td>\n",
       "    </tr>\n",
       "    <tr>\n",
       "      <th>Au</th>\n",
       "      <td>2.40</td>\n",
       "      <td>10</td>\n",
       "      <td>9.225</td>\n",
       "      <td>1.442</td>\n",
       "      <td>7.6300</td>\n",
       "      <td>222.75</td>\n",
       "      <td>0.010185</td>\n",
       "      <td>-6.472329</td>\n",
       "      <td>1.90</td>\n",
       "      <td>1.86</td>\n",
       "      <td>0.71</td>\n",
       "      <td>-0.19</td>\n",
       "    </tr>\n",
       "    <tr>\n",
       "      <th>Hg</th>\n",
       "      <td>1.90</td>\n",
       "      <td>10</td>\n",
       "      <td>10.437</td>\n",
       "      <td>1.600</td>\n",
       "      <td>12.6920</td>\n",
       "      <td>230.00</td>\n",
       "      <td>-3.628027</td>\n",
       "      <td>-10.113740</td>\n",
       "      <td>1.88</td>\n",
       "      <td>1.77</td>\n",
       "      <td>1.16</td>\n",
       "      <td>-0.24</td>\n",
       "    </tr>\n",
       "  </tbody>\n",
       "</table>\n",
       "</div>"
      ],
      "text/plain": [
       "     ᵡ_m  N_d     I_m    r_d      C_m     A_m       ɛ_D        ɛ_d  TM-NL  \\\n",
       "Sc  1.36    1   6.540  1.606  12.2900   18.14  0.820611   2.969941   1.88   \n",
       "Ti  1.54    2   6.820  1.448  -3.4380    7.62  0.874957   0.337490   1.93   \n",
       "V   1.63    3   6.740  1.321  -0.3824   50.65  1.487704   0.876092   1.95   \n",
       "Cr  1.66    5   6.766  1.249   3.6350   64.26  2.317219   0.241911   1.99   \n",
       "Mn  1.55    5   7.435  1.240  -3.7300   10.00 -1.021847  -1.302352   2.03   \n",
       "Fe  1.83    6   7.870  1.241   9.4500   14.57 -1.180000  -0.270000   2.07   \n",
       "Co  1.88    7   7.860  1.253   2.4900   63.87 -1.003518  -0.545583   2.10   \n",
       "Ni  1.91    8   7.635  1.246  10.3000  111.54 -1.440000  -1.660000   2.06   \n",
       "Cu  1.90   10   7.726  1.278   7.7180  119.16 -0.001886  -3.705000   1.74   \n",
       "Zn  1.65   10   9.394  1.332   5.6800  120.00 -5.658559  -6.001000   1.88   \n",
       "Y   1.22    1   6.380  1.810   7.7500   29.62  1.002960   2.949902   1.92   \n",
       "Zr  1.33    2   6.840  1.600   7.1600   41.10  0.984415   1.960500   1.94   \n",
       "Nb  1.60    4   6.880  1.429   7.0540   86.16  1.575050   1.066654   1.88   \n",
       "Mo  2.16    5   7.099  1.362   6.7150   72.17  0.387354   0.688063   1.92   \n",
       "Ru  2.20    7   7.370  1.340   7.0300  101.31 -0.519844  -0.679096   1.95   \n",
       "Rh  2.28    8   7.460  1.345   5.8800  109.70  0.150560  -1.154821   1.91   \n",
       "Pd  2.20   10   8.340  1.376   5.9100   54.22 -0.210224  -3.752818   1.91   \n",
       "Ag  1.93   10   7.576  1.444   5.9200  125.62 -0.011540  -7.070459   1.88   \n",
       "Cd  1.69   10   8.993  1.489   4.8700   10.00 -6.913901  -9.135611   1.90   \n",
       "Ta  1.50    3   7.890  1.430   6.9100   31.07  2.504333   2.153208   1.90   \n",
       "W   1.70    4   7.980  1.370   4.8600   78.64  1.643746   1.028943   1.90   \n",
       "Re  1.90    5   7.880  1.370   9.2000   14.47  1.801728  -0.224279   1.89   \n",
       "Os  2.20    6   8.700  1.350  10.7000  106.13 -1.247712  -0.504663   1.82   \n",
       "Ir  2.20    7   9.100  1.357  10.6000  150.88 -0.330767  -1.117137   1.54   \n",
       "Pt  2.20    9   9.000  1.380   9.6000  205.32 -1.239714  -3.036818   2.00   \n",
       "Au  2.40   10   9.225  1.442   7.6300  222.75  0.010185  -6.472329   1.90   \n",
       "Hg  1.90   10  10.437  1.600  12.6920  230.00 -3.628027 -10.113740   1.88   \n",
       "\n",
       "    TM-NS  CTM0   CN0  \n",
       "Sc   1.87  1.18 -0.25  \n",
       "Ti   1.92  1.08 -0.24  \n",
       "V    2.06  0.66 -0.19  \n",
       "Cr   2.11  0.62 -0.17  \n",
       "Mn   2.22  0.59 -0.17  \n",
       "Fe   2.25  0.23 -0.13  \n",
       "Co   2.20  0.27 -0.15  \n",
       "Ni   2.06  0.26 -0.14  \n",
       "Cu   1.65  0.56 -0.19  \n",
       "Zn   2.14  0.79 -0.23  \n",
       "Y    2.15  0.62 -0.06  \n",
       "Zr   2.07  1.43 -0.27  \n",
       "Nb   1.84  1.11 -0.24  \n",
       "Mo   2.15  0.47 -0.14  \n",
       "Ru   2.09  0.47 -0.14  \n",
       "Rh   1.89  0.23 -0.11  \n",
       "Pd   1.90  0.25 -0.08  \n",
       "Ag   1.99  0.84 -0.21  \n",
       "Cd   1.90  1.15 -0.27  \n",
       "Ta   1.96  0.85 -0.19  \n",
       "W    1.88  0.84 -0.21  \n",
       "Re   1.80  0.81 -0.20  \n",
       "Os   1.71  0.48 -0.16  \n",
       "Ir   1.44  0.20 -0.12  \n",
       "Pt   2.34  0.41 -0.15  \n",
       "Au   1.86  0.71 -0.19  \n",
       "Hg   1.77  1.16 -0.24  "
      ]
     },
     "execution_count": 5,
     "metadata": {},
     "output_type": "execute_result"
    }
   ],
   "source": [
    "feat = pd.read_csv('Features1-12-0428.csv', index_col = 0)\n",
    "feat"
   ]
  },
  {
   "cell_type": "code",
   "execution_count": 6,
   "id": "25b3bdce",
   "metadata": {},
   "outputs": [],
   "source": [
    "X = feat.values"
   ]
  },
  {
   "cell_type": "code",
   "execution_count": 7,
   "id": "2f4eca70",
   "metadata": {},
   "outputs": [
    {
     "data": {
      "text/plain": [
       "((27, 12), (27,))"
      ]
     },
     "execution_count": 7,
     "metadata": {},
     "output_type": "execute_result"
    }
   ],
   "source": [
    "X.shape, y.shape"
   ]
  },
  {
   "cell_type": "code",
   "execution_count": 8,
   "id": "58c798aa",
   "metadata": {},
   "outputs": [],
   "source": [
    "from sklearn.utils import shuffle   #  打乱数据\n",
    "X_r, y_r = shuffle(X, y)\n",
    "X_train, y_train = X_r[:-5, :], y_r[:-5]    # 这段程序是列表数据的切割\n",
    "X_test, y_test = X_r[-5:, :], y_r[-5:]"
   ]
  },
  {
   "cell_type": "code",
   "execution_count": 9,
   "id": "73b7981c",
   "metadata": {},
   "outputs": [
    {
     "data": {
      "text/plain": [
       "LinearRegression()"
      ]
     },
     "execution_count": 9,
     "metadata": {},
     "output_type": "execute_result"
    }
   ],
   "source": [
    "from sklearn.linear_model import LinearRegression   # 线性回归拟合\n",
    "lr = LinearRegression()\n",
    "lr.fit(X_train, y_train)"
   ]
  },
  {
   "cell_type": "code",
   "execution_count": 10,
   "id": "7f2f4dc7",
   "metadata": {},
   "outputs": [],
   "source": [
    "y_pred_train_lr = lr.predict(X_train)\n",
    "y_pred_test_lr = lr.predict(X_test)"
   ]
  },
  {
   "cell_type": "code",
   "execution_count": 11,
   "id": "93582de3",
   "metadata": {},
   "outputs": [
    {
     "data": {
      "image/png": "[encoded data removed]",
      "text/plain": [
       "<Figure size 360x360 with 1 Axes>"
      ]
     },
     "metadata": {
      "needs_background": "light"
     },
     "output_type": "display_data"
    }
   ],
   "source": [
    "import matplotlib.pyplot as plt\n",
    "plt.figure(figsize = (5,5))\n",
    "plt.scatter(y_train, y_pred_train_lr,s=150,alpha = 0.5, color = 'b', label ='training',) \n",
    "\n",
    "plt.scatter(y_test, y_pred_test_lr, s=150,marker='*',alpha = 0.5, color = 'r', label ='test')    # alpha表示透明度 \n",
    "plt.legend()\n",
    "plt.plot([-4, 7], [-4, 7], 'g--', alpha = 0.5)\n",
    "plt.xlim(-4, 7)\n",
    "plt.ylim(-4, 7)\n",
    "plt.xlabel('DFT calculated E1 (eV)')\n",
    "plt.ylabel('ML calculated E1 (eV)')\n",
    "plt.show()"
   ]
  },
  {
   "cell_type": "code",
   "execution_count": 12,
   "id": "694ffa39",
   "metadata": {},
   "outputs": [
    {
     "name": "stdout",
     "output_type": "stream",
     "text": [
      "RMSE(training) = 0.585\n",
      "RMSE(test) = 2.260\n"
     ]
    }
   ],
   "source": [
    "from  sklearn.metrics import mean_squared_error\n",
    "rmse_tr_lr = mean_squared_error(y_train, y_pred_train_lr, squared = False)  # squared = False意思是得到的MSE数值开根号得到RMSE值\n",
    "rmse_te_lr = mean_squared_error(y_test, y_pred_test_lr, squared = False)\n",
    "print('RMSE(training) = %.3f'  % rmse_tr_lr)\n",
    "print('RMSE(test) = %.3f' % rmse_te_lr)"
   ]
  },
  {
   "cell_type": "code",
   "execution_count": 13,
   "id": "f18de9a0",
   "metadata": {},
   "outputs": [
    {
     "name": "stdout",
     "output_type": "stream",
     "text": [
      "CV results:\n",
      "Folds: 27, mean RMSE: 1.186\n"
     ]
    }
   ],
   "source": [
    "from sklearn.model_selection import cross_val_score\n",
    "\n",
    "rmse_score_lr = cross_val_score(lr, X, y, scoring = 'neg_root_mean_squared_error', cv = len(X))\n",
    "\n",
    "print('CV results:')\n",
    "print('Folds: %i, mean RMSE: %.3f' % (len(rmse_score_lr), -rmse_score_lr.mean()))"
   ]
  },
  {
   "cell_type": "code",
   "execution_count": 14,
   "id": "af0532ea",
   "metadata": {},
   "outputs": [],
   "source": [
    "from sklearn.model_selection import cross_val_predict"
   ]
  },
  {
   "cell_type": "code",
   "execution_count": 15,
   "id": "5a3a8aab",
   "metadata": {},
   "outputs": [
    {
     "data": {
      "text/plain": [
       "<matplotlib.collections.PathCollection at 0x2257df782e0>"
      ]
     },
     "execution_count": 15,
     "metadata": {},
     "output_type": "execute_result"
    },
    {
     "data": {
      "image/png": "[encoded data removed]",
      "text/plain": [
       "<Figure size 360x360 with 1 Axes>"
      ]
     },
     "metadata": {
      "needs_background": "light"
     },
     "output_type": "display_data"
    }
   ],
   "source": [
    "plt.figure(figsize=(5,5))\n",
    "plt.plot([-4,7],[-4,7],'r--')\n",
    "plt.scatter(y, cross_val_predict(lr, X, y, cv=len(X)), s = 300, c = None, edgecolor = 'k', alpha = 0.7)"
   ]
  },
  {
   "cell_type": "markdown",
   "id": "b3b3d4ca",
   "metadata": {},
   "source": [
    "rf"
   ]
  },
  {
   "cell_type": "code",
   "execution_count": 16,
   "id": "1948c477",
   "metadata": {},
   "outputs": [],
   "source": [
    "from sklearn.ensemble import RandomForestRegressor\n",
    "\n",
    "rf = RandomForestRegressor()\n",
    "rf.fit(X_train, y_train)\n",
    "y_pred_train_rf = rf.predict(X_train)\n",
    "y_pred_test_rf = rf.predict(X_test)"
   ]
  },
  {
   "cell_type": "code",
   "execution_count": 17,
   "id": "4c0cb80a",
   "metadata": {},
   "outputs": [
    {
     "data": {
      "image/png": "[encoded data removed]",
      "text/plain": [
       "<Figure size 360x360 with 1 Axes>"
      ]
     },
     "metadata": {
      "needs_background": "light"
     },
     "output_type": "display_data"
    }
   ],
   "source": [
    "plt.figure(figsize = (5,5))\n",
    "plt.scatter(y_train, y_pred_train_rf,s=150,alpha = 0.5, color = 'b', label ='training',) \n",
    "\n",
    "plt.scatter(y_test, y_pred_test_rf, s=150,marker='*',alpha = 0.5, color = 'r', label ='test')    # alpha表示透明度 \n",
    "plt.legend()\n",
    "plt.plot([-4, 7], [-4, 7], 'g--', alpha = 0.5)\n",
    "plt.xlim(-4, 7)\n",
    "plt.ylim(-4, 7)\n",
    "plt.xlabel('DFT calculated E1 (eV)')\n",
    "plt.ylabel('ML calculated E1 (eV)')\n",
    "plt.show()"
   ]
  },
  {
   "cell_type": "code",
   "execution_count": 18,
   "id": "5aea9e19",
   "metadata": {},
   "outputs": [
    {
     "name": "stdout",
     "output_type": "stream",
     "text": [
      "RMSE(training) = 0.450\n",
      "RMSE(test) = 2.116\n"
     ]
    }
   ],
   "source": [
    "# from  sklearn.metrics import mean_squared_error\n",
    "rmse_tr_rf = mean_squared_error(y_train, y_pred_train_rf, squared = False)  # squared = False意思是得到的MSE数值开根号得到RMSE值\n",
    "rmse_te_rf = mean_squared_error(y_test, y_pred_test_rf, squared = False)\n",
    "print('RMSE(training) = %.3f'  % rmse_tr_rf)\n",
    "print('RMSE(test) = %.3f' % rmse_te_rf)\n",
    "\n",
    "# RMSE(training)一般0.04左右，RMSE(test) = 0.101一般0.14左右"
   ]
  },
  {
   "cell_type": "code",
   "execution_count": 19,
   "id": "abd9cd22",
   "metadata": {},
   "outputs": [
    {
     "name": "stdout",
     "output_type": "stream",
     "text": [
      "CV results:\n",
      "Folds: 27, mean RMSE: 1.098\n"
     ]
    }
   ],
   "source": [
    "rmse_score_rf = cross_val_score(rf, X, y, scoring = 'neg_root_mean_squared_error', cv = len(X))\n",
    "\n",
    "print('CV results:')\n",
    "print('Folds: %i, mean RMSE: %.3f' % (len(rmse_score_rf), -rmse_score_rf.mean()))"
   ]
  },
  {
   "cell_type": "code",
   "execution_count": 20,
   "id": "b74a26df",
   "metadata": {},
   "outputs": [
    {
     "data": {
      "text/plain": [
       "<matplotlib.collections.PathCollection at 0x22500300130>"
      ]
     },
     "execution_count": 20,
     "metadata": {},
     "output_type": "execute_result"
    },
    {
     "data": {
      "image/png": "[encoded data removed]",
      "text/plain": [
       "<Figure size 360x360 with 1 Axes>"
      ]
     },
     "metadata": {
      "needs_background": "light"
     },
     "output_type": "display_data"
    }
   ],
   "source": [
    "plt.figure(figsize=(5,5))\n",
    "plt.plot([-4,7],[-4,7],'r--')\n",
    "plt.scatter(y, cross_val_predict(rf, X, y, cv=len(X)), s = 300, c = None, edgecolor = 'k', alpha = 0.7)"
   ]
  },
  {
   "cell_type": "code",
   "execution_count": null,
   "id": "d2a5ad6a",
   "metadata": {},
   "outputs": [],
   "source": []
  },
  {
   "cell_type": "markdown",
   "id": "f75536b3",
   "metadata": {},
   "source": [
    "GBR"
   ]
  },
  {
   "cell_type": "code",
   "execution_count": 21,
   "id": "380641d1",
   "metadata": {},
   "outputs": [],
   "source": [
    "from sklearn.ensemble import GradientBoostingRegressor\n",
    "\n",
    "gbr = GradientBoostingRegressor()\n",
    "gbr.fit(X_train, y_train)\n",
    "y_pred_train_gbr = gbr.predict(X_train)\n",
    "y_pred_test_gbr = gbr.predict(X_test)"
   ]
  },
  {
   "cell_type": "code",
   "execution_count": 22,
   "id": "d63d954b",
   "metadata": {},
   "outputs": [
    {
     "data": {
      "image/png": "[encoded data removed]",
      "text/plain": [
       "<Figure size 360x360 with 1 Axes>"
      ]
     },
     "metadata": {
      "needs_background": "light"
     },
     "output_type": "display_data"
    }
   ],
   "source": [
    "plt.figure(figsize = (5,5))\n",
    "plt.scatter(y_train, y_pred_train_gbr,s=150,alpha = 0.5, color = 'b', label ='training',) \n",
    "\n",
    "plt.scatter(y_test, y_pred_test_gbr, s=150,marker='*',alpha = 0.5, color = 'r', label ='test')    # alpha表示透明度 \n",
    "plt.legend()\n",
    "plt.plot([-4, 7], [-4, 7], 'g--', alpha = 0.5)\n",
    "plt.xlim(-4, 7)\n",
    "plt.ylim(-4, 7)\n",
    "plt.xlabel('DFT calculated E1 (eV)')\n",
    "plt.ylabel('ML calculated E1 (eV)')\n",
    "plt.show()"
   ]
  },
  {
   "cell_type": "code",
   "execution_count": 23,
   "id": "5bd36815",
   "metadata": {},
   "outputs": [
    {
     "name": "stdout",
     "output_type": "stream",
     "text": [
      "RMSE(training) = 0.001\n",
      "RMSE(test) = 2.050\n"
     ]
    }
   ],
   "source": [
    "# from  sklearn.metrics import mean_squared_error\n",
    "rmse_tr_gbr = mean_squared_error(y_train, y_pred_train_gbr, squared = False)  # squared = False意思是得到的MSE数值开根号得到RMSE值\n",
    "rmse_te_gbr = mean_squared_error(y_test, y_pred_test_gbr, squared = False)\n",
    "print('RMSE(training) = %.3f'  % rmse_tr_gbr)\n",
    "print('RMSE(test) = %.3f' % rmse_te_gbr)\n",
    "\n",
    "# RMSE(training)一般0.04左右，RMSE(test) = 0.101一般0.14左右"
   ]
  },
  {
   "cell_type": "code",
   "execution_count": 24,
   "id": "4a200016",
   "metadata": {},
   "outputs": [
    {
     "name": "stdout",
     "output_type": "stream",
     "text": [
      "CV results:\n",
      "Folds: 27, mean RMSE: 1.145\n",
      "Folds: 27, mean MAE: 1.149\n"
     ]
    }
   ],
   "source": [
    "rmse_score_gbr = cross_val_score(gbr, X, y, scoring = 'neg_root_mean_squared_error', cv = len(X))\n",
    "mae_score_gbr = cross_val_score(gbr, X, y, scoring = 'neg_mean_absolute_error', cv = len(X))\n",
    "\n",
    "print('CV results:')\n",
    "print('Folds: %i, mean RMSE: %.3f' % (len(rmse_score_gbr), -rmse_score_gbr.mean()))\n",
    "print('Folds: %i, mean MAE: %.3f' % (len(mae_score_gbr), -mae_score_gbr.mean()))"
   ]
  },
  {
   "cell_type": "code",
   "execution_count": 25,
   "id": "f03e7c92",
   "metadata": {},
   "outputs": [
    {
     "data": {
      "text/plain": [
       "<matplotlib.collections.PathCollection at 0x22500739280>"
      ]
     },
     "execution_count": 25,
     "metadata": {},
     "output_type": "execute_result"
    },
    {
     "data": {
      "image/png": "[encoded data removed]",
      "text/plain": [
       "<Figure size 360x360 with 1 Axes>"
      ]
     },
     "metadata": {
      "needs_background": "light"
     },
     "output_type": "display_data"
    }
   ],
   "source": [
    "plt.figure(figsize=(5,5))\n",
    "plt.plot([-4,7],[-4,7],'r--')\n",
    "plt.scatter(y, cross_val_predict(gbr, X, y, cv=len(X)), s = 300, c = None, edgecolor = 'k', alpha = 0.7)"
   ]
  },
  {
   "cell_type": "code",
   "execution_count": 26,
   "id": "cd6824d2",
   "metadata": {},
   "outputs": [
    {
     "name": "stdout",
     "output_type": "stream",
     "text": [
      "Requirement already satisfied: xgboost in d:\\anaconda3\\lib\\site-packages (1.6.1)Note: you may need to restart the kernel to use updated packages.\n",
      "Requirement already satisfied: scipy in d:\\anaconda3\\lib\\site-packages (from xgboost) (1.6.2)\n",
      "Requirement already satisfied: numpy in c:\\users\\administrator\\appdata\\roaming\\python\\python38\\site-packages (from xgboost) (1.22.3)\n",
      "\n"
     ]
    }
   ],
   "source": [
    "pip install xgboost"
   ]
  },
  {
   "cell_type": "markdown",
   "id": "232b078c",
   "metadata": {},
   "source": [
    "#XGBR"
   ]
  },
  {
   "cell_type": "code",
   "execution_count": 27,
   "id": "cd8409e7",
   "metadata": {},
   "outputs": [],
   "source": [
    "#from sklearn.ensemble import XGradientBoostingRegresso\n",
    "from sklearn.model_selection import GridSearchCV\n",
    "from sklearn.datasets import fetch_california_housing\n",
    "import xgboost as xgb\n",
    "import multiprocessing\n",
    "#import numpy as np\n",
    "\n",
    "xgb = GradientBoostingRegressor()\n",
    "xgb.fit(X_train, y_train)\n",
    "y_pred_train_xgb = xgb.predict(X_train)\n",
    "y_pred_test_xgb = xgb.predict(X_test)\n"
   ]
  },
  {
   "cell_type": "code",
   "execution_count": 28,
   "id": "c0c45cd9",
   "metadata": {},
   "outputs": [
    {
     "data": {
      "image/png": "[encoded data removed]",
      "text/plain": [
       "<Figure size 360x360 with 1 Axes>"
      ]
     },
     "metadata": {
      "needs_background": "light"
     },
     "output_type": "display_data"
    }
   ],
   "source": [
    "plt.figure(figsize = (5,5))\n",
    "plt.scatter(y_train, y_pred_train_xgb,s=150,alpha = 0.5, color = 'b', label ='training',) \n",
    "\n",
    "plt.scatter(y_test, y_pred_test_xgb, s=150,marker='*',alpha = 0.5, color = 'r', label ='test')    # alpha表示透明度 \n",
    "plt.legend()\n",
    "plt.plot([-4, 7], [-4, 7], 'g--', alpha = 0.5)\n",
    "plt.xlim(-4, 7)\n",
    "plt.ylim(-4, 7)\n",
    "plt.xlabel('DFT calculated E1 (eV)')\n",
    "plt.ylabel('ML calculated E1 (eV)')\n",
    "plt.show()"
   ]
  },
  {
   "cell_type": "code",
   "execution_count": 29,
   "id": "fb36caad",
   "metadata": {},
   "outputs": [
    {
     "name": "stdout",
     "output_type": "stream",
     "text": [
      "RMSE(training) = 0.001\n",
      "RMSE(test) = 2.081\n"
     ]
    }
   ],
   "source": [
    "# from  sklearn.metrics import mean_squared_error\n",
    "rmse_tr_xgb = mean_squared_error(y_train, y_pred_train_xgb, squared = False)  # squared = False意思是得到的MSE数值开根号得到RMSE值\n",
    "rmse_te_xgb = mean_squared_error(y_test, y_pred_test_xgb, squared = False)\n",
    "print('RMSE(training) = %.3f'  % rmse_tr_xgb)\n",
    "print('RMSE(test) = %.3f' % rmse_te_xgb)\n",
    "\n",
    "# RMSE(training)一般0.04左右，RMSE(test) = 0.101一般0.14左右"
   ]
  },
  {
   "cell_type": "code",
   "execution_count": 30,
   "id": "a40794db",
   "metadata": {},
   "outputs": [
    {
     "name": "stdout",
     "output_type": "stream",
     "text": [
      "CV results:\n",
      "Folds: 27, mean RMSE: 1.133\n",
      "Folds: 27, mean MAE: 1.108\n"
     ]
    }
   ],
   "source": [
    "rmse_score_xgb = cross_val_score(xgb, X, y, scoring = 'neg_root_mean_squared_error', cv = len(X))\n",
    "mae_score_xgb = cross_val_score(xgb, X, y, scoring = 'neg_mean_absolute_error', cv = len(X))\n",
    "\n",
    "print('CV results:')\n",
    "print('Folds: %i, mean RMSE: %.3f' % (len(rmse_score_xgb), -rmse_score_xgb.mean()))\n",
    "print('Folds: %i, mean MAE: %.3f' % (len(mae_score_xgb), -mae_score_xgb.mean()))"
   ]
  },
  {
   "cell_type": "code",
   "execution_count": 31,
   "id": "3b6dbbde",
   "metadata": {},
   "outputs": [
    {
     "data": {
      "text/plain": [
       "<matplotlib.collections.PathCollection at 0x22500ca7910>"
      ]
     },
     "execution_count": 31,
     "metadata": {},
     "output_type": "execute_result"
    },
    {
     "data": {
      "image/png": "[encoded data removed]",
      "text/plain": [
       "<Figure size 360x360 with 1 Axes>"
      ]
     },
     "metadata": {
      "needs_background": "light"
     },
     "output_type": "display_data"
    }
   ],
   "source": [
    "plt.figure(figsize=(5,5))\n",
    "plt.plot([-4,7],[-4,7],'r--')\n",
    "plt.scatter(y, cross_val_predict(xgb, X, y, cv=len(X)), s = 300, c = None, edgecolor = 'k', alpha = 0.7)"
   ]
  },
  {
   "cell_type": "code",
   "execution_count": null,
   "id": "1655ee69",
   "metadata": {},
   "outputs": [],
   "source": []
  }
 ],
 "metadata": {
  "kernelspec": {
   "display_name": "Python 3",
   "language": "python",
   "name": "python3"
  },
  "language_info": {
   "codemirror_mode": {
    "name": "ipython",
    "version": 3
   },
   "file_extension": ".py",
   "mimetype": "text/x-python",
   "name": "python",
   "nbconvert_exporter": "python",
   "pygments_lexer": "ipython3",
   "version": "3.8.8"
  }
 },
 "nbformat": 4,
 "nbformat_minor": 5
}
